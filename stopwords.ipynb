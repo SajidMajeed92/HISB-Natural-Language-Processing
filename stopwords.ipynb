{
 "cells": [
  {
   "cell_type": "code",
   "execution_count": 2,
   "metadata": {},
   "outputs": [],
   "source": [
    "import spacy\n",
    "nlp = spacy.load(\"en_core_web_sm\")"
   ]
  },
  {
   "cell_type": "code",
   "execution_count": 3,
   "metadata": {},
   "outputs": [
    {
     "name": "stdout",
     "output_type": "stream",
     "text": [
      "{'other', 'hers', 'such', '’d', 'hereupon', 'does', 'back', 'formerly', 'therein', 'seeming', 'if', 'him', 'am', 'how', 'nobody', 'take', 'also', 'unless', 'would', 'whither', 'he', 'themselves', 'get', 'nothing', 'quite', 'then', \"'ll\", 'no', 'various', 'move', 'four', 'itself', 'mostly', 're', 'latterly', 'n’t', 'while', 'side', 'becoming', 'thereupon', 'anyhow', 'the', 'enough', 'else', 'just', 'in', 'could', 'who', 'whom', 'myself', 'forty', 'among', 'had', 'is', 'beyond', 'amongst', 'of', 'something', 'about', 'become', 'off', 'nor', 'onto', 'above', 'eight', 'being', \"'ve\", 'most', 'now', 'nevertheless', 'first', 'everyone', 'part', 'serious', 'yet', 'several', 'seem', 'around', 'whoever', 'not', 'much', '’ve', 'be', 'thence', 'former', 'beside', 'ca', 'again', 'amount', 'may', 'every', '‘ll', 'which', 'all', 'thereby', 'only', 'call', 'they', 'throughout', 'across', 'i', 'seems', 'thru', 'you', 'towards', 'indeed', 'per', 'go', 'namely', 'elsewhere', 'regarding', '’re', 'our', 'meanwhile', 'was', 'please', 'third', 'still', 'your', 'into', 'yourself', 'over', 'sometimes', '‘s', 'although', 'own', 'to', 'due', 'almost', 'everything', 'will', 'what', 'six', 'someone', 'somewhere', 'hundred', 'moreover', 'perhaps', 'whenever', 'however', 'mine', 'though', 'seemed', '’s', 'bottom', 'anything', 'whose', 'yourselves', 'below', 'many', 'eleven', 'there', '‘m', 'ours', 'between', 'these', 'along', 'each', 'once', 'since', 'make', 'rather', 'becomes', 'used', 'using', 'together', 'few', 'ever', 'empty', 'everywhere', 'anywhere', 'more', 'another', 'hence', 'those', 'never', 'otherwise', 'ten', 'might', 'and', 'twelve', 'wherever', 'or', 'cannot', 'under', 'do', 'full', 'did', 'herein', 'upon', 'because', 'where', 'none', 'yours', 'really', 'were', 'during', \"n't\", 'why', 'one', 'anyway', 'made', 'beforehand', '‘re', 'whether', 'out', 'me', \"'m\", 'whole', 'whereby', 'alone', 'somehow', 'whence', 'five', 'often', 'always', 'his', 'than', 'two', '‘d', 'has', 'this', 'thus', 'whatever', 'sometime', 'twenty', 'put', '‘ve', 'doing', 'already', 'down', 'herself', 'up', 'n‘t', 'behind', 'least', 'with', 'whereafter', 'we', 'fifteen', 'against', 'when', 'except', 'fifty', 'top', 'even', 'nine', 'keep', 'thereafter', 'both', 'three', 'besides', \"'re\", 'by', '’ll', 'next', 'an', 'anyone', 'whereas', 'afterwards', 'after', 'here', 'via', 'either', 'ourselves', 'nowhere', 'front', 'latter', \"'d\", 'say', \"'s\", 'same', 'became', 'see', 'well', 'their', 'others', 'some', 'she', 'are', 'from', 'wherein', 'therefore', 'done', 'before', 'last', 'within', 'my', 'for', 'sixty', 'very', 'it', '’m', 'through', 'but', 'its', 'her', 'show', 'neither', 'on', 'hereafter', 'name', 'toward', 'us', 'himself', 'been', 'should', 'have', 'them', 'as', 'too', 'any', 'less', 'without', 'noone', 'a', 'whereupon', 'until', 'can', 'give', 'hereby', 'at', 'must', 'further', 'that', 'so'}\n"
     ]
    }
   ],
   "source": [
    "print(nlp.Defaults.stop_words)"
   ]
  },
  {
   "cell_type": "code",
   "execution_count": 4,
   "metadata": {},
   "outputs": [
    {
     "data": {
      "text/plain": [
       "326"
      ]
     },
     "execution_count": 4,
     "metadata": {},
     "output_type": "execute_result"
    }
   ],
   "source": [
    "len(nlp.Defaults.stop_words)"
   ]
  },
  {
   "cell_type": "code",
   "execution_count": null,
   "metadata": {},
   "outputs": [],
   "source": []
  }
 ],
 "metadata": {
  "kernelspec": {
   "display_name": "base",
   "language": "python",
   "name": "python3"
  },
  "language_info": {
   "codemirror_mode": {
    "name": "ipython",
    "version": 3
   },
   "file_extension": ".py",
   "mimetype": "text/x-python",
   "name": "python",
   "nbconvert_exporter": "python",
   "pygments_lexer": "ipython3",
   "version": "3.11.5"
  }
 },
 "nbformat": 4,
 "nbformat_minor": 2
}
