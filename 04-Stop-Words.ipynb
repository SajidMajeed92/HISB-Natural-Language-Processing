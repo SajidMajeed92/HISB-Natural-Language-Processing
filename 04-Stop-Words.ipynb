{
 "cells": [
  {
   "cell_type": "markdown",
   "metadata": {},
   "source": [
    "# Stop Words\n",
    "Words like \"a\" and \"the\" appear so frequently that they don't require tagging as thoroughly as nouns, verbs and modifiers. We call these *stop words*, and they can be filtered from the text to be processed. spaCy holds a built-in list of some 305 English stop words."
   ]
  },
  {
   "cell_type": "code",
   "execution_count": 1,
   "metadata": {},
   "outputs": [],
   "source": [
    "# Perform standard imports:\n",
    "import spacy\n",
    "nlp = spacy.load('en_core_web_sm')"
   ]
  },
  {
   "cell_type": "code",
   "execution_count": 2,
   "metadata": {},
   "outputs": [
    {
     "name": "stdout",
     "output_type": "stream",
     "text": [
      "{'seemed', 'ten', 'that', 'namely', 'without', 'nor', 'using', 'former', 'will', 'for', 'several', 'were', 'however', 'might', 'whom', 'does', 'four', 'one', 'down', 'which', 'in', 'nine', 'becomes', 'any', 'behind', 'noone', '’ll', 'every', 'done', \"'m\", 'i', \"'ve\", 'thus', 'full', 'next', 'seeming', 'me', 'he', 'us', 'then', 'beforehand', 'all', 'can', 'itself', 'thereby', 'or', 'yourselves', 'ours', 'why', 'do', 'each', 'hereafter', 'made', 'are', 'either', 'many', 'yet', 'beyond', \"'d\", 'few', 'three', 'against', 'become', 'herein', 'another', 'not', 'forty', 'rather', 'at', 'show', 'due', 'back', 'somehow', \"n't\", 'into', 'latter', 'much', 'hundred', 'get', 'been', 'see', 'empty', 'formerly', 'off', '‘ve', 'whether', \"'re\", 'first', 'give', 'seems', 'through', '‘re', 'six', 'myself', 'mine', 'two', 'what', 'when', 'during', '’ve', 'after', 'five', 'on', 'although', 'call', 'she', 'this', 'mostly', 'n‘t', 'something', 'though', 'anyhow', 'towards', 'afterwards', 'became', 'thru', 'thereupon', 'own', 'beside', 'them', 'from', 'until', 'perhaps', 'fifteen', 'well', 'among', 'anywhere', 'bottom', 'only', 'you', 'my', 'within', 'hereby', 'nothing', 'seem', 'and', 'most', 'himself', 'who', 'a', 'both', 'whereupon', 'whereafter', 'anyone', 'out', 'amount', 'together', 'whereas', 'last', 'her', \"'s\", 'whose', 'these', 'hers', 'above', '’d', '’m', 'would', 'toward', 'with', 'whereby', 'enough', 'his', '’re', 'up', 'please', 'we', 'than', 'may', 'before', 'other', 'throughout', 'least', 'anyway', 'meanwhile', 'ever', 'being', 'take', 'here', 'how', '’s', 'whence', 'him', 'is', 'more', 'sometime', 'by', 'between', 'no', 'serious', 'again', 'nevertheless', 'per', 'amongst', 'thence', 'doing', 'its', 'where', 'over', 'ca', 'their', 'therefore', 'twelve', 'there', 'put', 'n’t', 'whoever', 'if', 'nobody', 'under', 'quite', 'am', 'almost', 'upon', 'latterly', 'the', 'indeed', 'someone', 'have', 'since', 'along', 'had', 'just', 'some', 'yours', 'via', 'say', 'was', 'somewhere', 'whole', 'about', 'neither', 'never', 'our', 'part', 'eight', 'wherever', 'everywhere', 'third', 'eleven', 'but', 'those', 'as', 'regarding', 'across', 'also', 'of', 'used', 'unless', 'keep', 'same', 'to', 'always', 'else', 'still', 'none', 'side', 'move', '‘d', '‘m', 'besides', 'now', \"'ll\", 're', 'hence', 'sometimes', 'otherwise', 'should', 'herself', 'such', 'various', 'an', 'because', 'must', 'except', 'ourselves', 'very', 'around', 'has', 'anything', 'everyone', 'thereafter', 'while', 'so', 'even', 'make', 'once', 'themselves', 'did', 'name', 'sixty', 'front', 'others', 'your', 'yourself', 'really', 'becoming', 'hereupon', 'moreover', 'less', 'top', 'alone', 'nowhere', 'therein', 'go', 'whenever', 'already', 'too', 'whatever', '‘s', 'below', 'they', 'elsewhere', 'wherein', 'onto', 'it', 'fifty', '‘ll', 'often', 'whither', 'could', 'twenty', 'everything', 'cannot', 'further', 'be'}\n"
     ]
    }
   ],
   "source": [
    "print(nlp.Defaults.stop_words)\n"
   ]
  },
  {
   "cell_type": "code",
   "execution_count": 3,
   "metadata": {},
   "outputs": [
    {
     "data": {
      "text/plain": [
       "326"
      ]
     },
     "execution_count": 3,
     "metadata": {},
     "output_type": "execute_result"
    }
   ],
   "source": [
    "len(nlp.Defaults.stop_words)"
   ]
  },
  {
   "cell_type": "markdown",
   "metadata": {},
   "source": [
    "## To see if a word is a stop word"
   ]
  },
  {
   "cell_type": "code",
   "execution_count": 4,
   "metadata": {},
   "outputs": [
    {
     "data": {
      "text/plain": [
       "True"
      ]
     },
     "execution_count": 4,
     "metadata": {},
     "output_type": "execute_result"
    }
   ],
   "source": [
    "nlp.vocab['myself'].is_stop"
   ]
  },
  {
   "cell_type": "code",
   "execution_count": 5,
   "metadata": {},
   "outputs": [
    {
     "data": {
      "text/plain": [
       "False"
      ]
     },
     "execution_count": 5,
     "metadata": {},
     "output_type": "execute_result"
    }
   ],
   "source": [
    "nlp.vocab['mystery'].is_stop"
   ]
  },
  {
   "cell_type": "markdown",
   "metadata": {},
   "source": [
    "## To add a stop word\n",
    "There may be times when you wish to add a stop word to the default set. Perhaps you decide that `'btw'` (common shorthand for \"by the way\") should be considered a stop word."
   ]
  },
  {
   "cell_type": "code",
   "execution_count": 6,
   "metadata": {},
   "outputs": [],
   "source": [
    "# Add the word to the set of stop words. Use lowercase!\n",
    "nlp.Defaults.stop_words.add('btw')\n",
    "\n",
    "# Set the stop_word tag on the lexeme\n",
    "nlp.vocab['btw'].is_stop = True"
   ]
  },
  {
   "cell_type": "code",
   "execution_count": 7,
   "metadata": {},
   "outputs": [
    {
     "data": {
      "text/plain": [
       "327"
      ]
     },
     "execution_count": 7,
     "metadata": {},
     "output_type": "execute_result"
    }
   ],
   "source": [
    "len(nlp.Defaults.stop_words)"
   ]
  },
  {
   "cell_type": "code",
   "execution_count": 8,
   "metadata": {},
   "outputs": [
    {
     "data": {
      "text/plain": [
       "True"
      ]
     },
     "execution_count": 8,
     "metadata": {},
     "output_type": "execute_result"
    }
   ],
   "source": [
    "nlp.vocab['btw'].is_stop"
   ]
  },
  {
   "cell_type": "markdown",
   "metadata": {},
   "source": [
    "<font color=green>When adding stop words, always use lowercase. Lexemes are converted to lowercase before being added to **vocab**.</font>"
   ]
  },
  {
   "cell_type": "markdown",
   "metadata": {},
   "source": [
    "## To remove a stop word\n",
    "Alternatively, you may decide that `'beyond'` should not be considered a stop word."
   ]
  },
  {
   "cell_type": "code",
   "execution_count": 9,
   "metadata": {},
   "outputs": [],
   "source": [
    "# Remove the word from the set of stop words\n",
    "nlp.Defaults.stop_words.remove('beyond')\n",
    "\n",
    "# Remove the stop_word tag from the lexeme\n",
    "nlp.vocab['beyond'].is_stop = False"
   ]
  },
  {
   "cell_type": "code",
   "execution_count": 10,
   "metadata": {},
   "outputs": [
    {
     "data": {
      "text/plain": [
       "326"
      ]
     },
     "execution_count": 10,
     "metadata": {},
     "output_type": "execute_result"
    }
   ],
   "source": [
    "len(nlp.Defaults.stop_words)"
   ]
  },
  {
   "cell_type": "code",
   "execution_count": 11,
   "metadata": {},
   "outputs": [
    {
     "data": {
      "text/plain": [
       "False"
      ]
     },
     "execution_count": 11,
     "metadata": {},
     "output_type": "execute_result"
    }
   ],
   "source": [
    "nlp.vocab['beyond'].is_stop"
   ]
  },
  {
   "cell_type": "markdown",
   "metadata": {},
   "source": [
    "Great! Now you should be able to access spaCy's default set of stop words, and add or remove stop words as needed.\n",
    "## Next up: Vocabulary and Matching"
   ]
  },
  {
   "cell_type": "code",
   "execution_count": null,
   "metadata": {},
   "outputs": [],
   "source": []
  }
 ],
 "metadata": {
  "kernelspec": {
   "display_name": "Python 3 (ipykernel)",
   "language": "python",
   "name": "python3"
  },
  "language_info": {
   "codemirror_mode": {
    "name": "ipython",
    "version": 3
   },
   "file_extension": ".py",
   "mimetype": "text/x-python",
   "name": "python",
   "nbconvert_exporter": "python",
   "pygments_lexer": "ipython3",
   "version": "3.11.5"
  }
 },
 "nbformat": 4,
 "nbformat_minor": 2
}
